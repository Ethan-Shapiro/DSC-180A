{
 "cells": [
  {
   "cell_type": "code",
   "execution_count": 1,
   "metadata": {},
   "outputs": [],
   "source": [
    "import numpy as np\n",
    "import torch\n",
    "import torch.nn as nn\n",
    "import torch.optim as optim\n",
    "from torch.utils.data import DataLoader, TensorDataset\n",
    "from sklearn.model_selection import train_test_split\n",
    "import matplotlib.pyplot as plt"
   ]
  },
  {
   "cell_type": "code",
   "execution_count": 37,
   "metadata": {},
   "outputs": [
    {
     "name": "stdout",
     "output_type": "stream",
     "text": [
      "Epoch [100/250], Loss: 8.045852155191824e-06\n",
      "Epoch [200/250], Loss: 0.006082025822252035\n"
     ]
    },
    {
     "data": {
      "image/png": "[encoded data removed]",
      "text/plain": [
       "<Figure size 640x480 with 2 Axes>"
      ]
     },
     "metadata": {},
     "output_type": "display_data"
    }
   ],
   "source": [
    "# Data generation\n",
    "\n",
    "\n",
    "def generate_points(N=1000, d=100):\n",
    "    np.random.seed(14)\n",
    "    return np.random.normal(0, 1, (N, d))\n",
    "\n",
    "\n",
    "def get_labels(X):\n",
    "    # Labels based on the sum of the first two features\n",
    "    return X[:, 0]\n",
    "\n",
    "# Neural Network Model\n",
    "\n",
    "\n",
    "class SimpleNN(nn.Module):\n",
    "    def __init__(self, input_dim, hidden_dim=1024, depth=1):\n",
    "        super(SimpleNN, self).__init__()\n",
    "        layers = []\n",
    "\n",
    "        # First layer\n",
    "        first_layer = nn.Linear(input_dim, hidden_dim, bias=False)\n",
    "        layers.append(first_layer)\n",
    "        layers.append(nn.ReLU())\n",
    "\n",
    "        first_layer.weight.data[:, :] = 0.1\n",
    "        first_layer.weight.data[0, 0] = 1\n",
    "\n",
    "        # Additional hidden layers\n",
    "        for _ in range(depth - 1):\n",
    "            layers.append(nn.Linear(hidden_dim, hidden_dim, bias=False))\n",
    "            layers.append(nn.ReLU())\n",
    "\n",
    "        # Output layer\n",
    "        layers.append(nn.Linear(hidden_dim, 1, bias=False))\n",
    "\n",
    "        # Combine all layers into a Sequential module\n",
    "        self.layers = nn.Sequential(*layers)\n",
    "\n",
    "    def forward(self, x):\n",
    "        return self.layers(x)\n",
    "\n",
    "# Training Function\n",
    "\n",
    "\n",
    "def train_model(model, train_loader, num_epochs=200, lr=0.01):\n",
    "    criterion = nn.MSELoss()\n",
    "    optimizer = optim.Adam(model.parameters(), lr=lr)\n",
    "\n",
    "    for epoch in range(num_epochs):\n",
    "        for X_batch, y_batch in train_loader:\n",
    "            optimizer.zero_grad()\n",
    "            outputs = model(X_batch)\n",
    "            loss = criterion(outputs, y_batch)\n",
    "            loss.backward()\n",
    "            optimizer.step()\n",
    "        if (epoch + 1) % 100 == 0:\n",
    "            print(f'Epoch [{epoch + 1}/{num_epochs}], Loss: {loss.item()}')\n",
    "\n",
    "\n",
    "# Data Preparation\n",
    "X = generate_points(N=1000, d=100)\n",
    "y = get_labels(X)\n",
    "\n",
    "X_tensor = torch.Tensor(X)\n",
    "y_tensor = torch.Tensor(y).unsqueeze(1)\n",
    "\n",
    "X_train, X_test, y_train, y_test = train_test_split(\n",
    "    X_tensor, y_tensor, test_size=0.2)\n",
    "train_loader = DataLoader(TensorDataset(\n",
    "    X_train, y_train), batch_size=100, shuffle=True)\n",
    "\n",
    "# Model Initialization\n",
    "model = SimpleNN(input_dim=100)\n",
    "\n",
    "# Training\n",
    "train_model(model, train_loader, num_epochs=250, lr=0.01)\n",
    "\n",
    "\n",
    "# Assuming the model 'model' has been trained, and the weights are from the first layer\n",
    "W_1 = model.layers[0].weight.data\n",
    "\n",
    "# Extract the diagonal weights and reshape them into a 10x10 matrix\n",
    "# Since the model has 1024 units in the hidden layer, we only take the first 100 weights\n",
    "diagonal_weights = W_1[:, :100].diag().reshape(10, 10).cpu().numpy()\n",
    "\n",
    "# Display the weights as a 10x10 greyscale image\n",
    "plt.imshow(diagonal_weights, cmap='gray')\n",
    "plt.colorbar()\n",
    "plt.title(\"Diagonal Weights of the First Layer\")\n",
    "plt.show()"
   ]
  },
  {
   "cell_type": "code",
   "execution_count": null,
   "metadata": {},
   "outputs": [],
   "source": []
  }
 ],
 "metadata": {
  "kernelspec": {
   "display_name": "env",
   "language": "python",
   "name": "python3"
  },
  "language_info": {
   "codemirror_mode": {
    "name": "ipython",
    "version": 3
   },
   "file_extension": ".py",
   "mimetype": "text/x-python",
   "name": "python",
   "nbconvert_exporter": "python",
   "pygments_lexer": "ipython3",
   "version": "3.11.1"
  }
 },
 "nbformat": 4,
 "nbformat_minor": 2
}

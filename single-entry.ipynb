{
 "cells": [
  {
   "cell_type": "markdown",
   "metadata": {},
   "source": [
    "## Single-Index Models\n",
    "### What is a single-index model?\n",
    "A single-index model is where the label (y) is based solely off of one entry within the features (X).\n",
    "\n",
    "### What's the goal?\n",
    "We want to verify how well Neural Networks can learn the vector (v) that corresponds to the singular index for the feature that relates to our label y.\n",
    "\n",
    "### Background\n",
    "In modern machine learning, neural networks are very capable in learning how said vector (v) relates to some output y, however not much is known as to why they are good at this. As such, our work will attempt to answer why this is the case. For example, if were are given a dataset in d dimensions $$X \\text{ in } \\mathbb{R}^d$$ and there are corresponding labels, $$y_i\\text{ in } \\mathbb{R}$$, and we knew that the only relevant feature in order to accurately predict y is for example, $x_1^2$, it is easy to state the the vector v should only be (1, 0, 0, ... , 0). However, if we attempted to generalize this, and not know what the relevant features were, how can we understand what the vector v should be? That, in essence, is the goal of our work: to understand how the weight assignments of a neural network evolve during training, and why do neural networks estimate this vector v well.\n",
    "\n",
    "\n",
    "### How is our data generated?\n",
    "For this, we'll be generating our features (X) \n",
    "$$X \\text{ in } \\mathbb{R}^d$$\n",
    "$$x_i \\sim \\mathcal{N}(0, I)$$\n",
    "$$y_i\\text{ in } \\mathbb{R}$$\n",
    "$$(x_i, y_i) \\sim P$$\n",
    "$$f(x) = \\phi(v \\cdot x) + \\xi$$\n",
    "$$\\xi$$ \n",
    "is a random variable representing noise, often generated from a uniform distribution between 0 and 1.\n",
    "\n",
    "### Experiments\n",
    "1. Different number of points\n",
    "2. Different number of dimensions/features\n",
    "\n",
    "### Potential Other Experiments\n",
    "3. Different phi/linq function"
   ]
  },
  {
   "cell_type": "code",
   "execution_count": 379,
   "metadata": {},
   "outputs": [],
   "source": [
    "import numpy as np\n",
    "\n",
    "import seaborn as sns\n",
    "import matplotlib.pyplot as plt\n",
    "\n",
    "import torch\n",
    "import torch.nn as nn\n",
    "import torch.optim as optim\n",
    "from copy import deepcopy"
   ]
  },
  {
   "cell_type": "code",
   "execution_count": 380,
   "metadata": {},
   "outputs": [],
   "source": [
    "def generate_points(N=1000, d=100) -> np.array:\n",
    "    \"\"\"Generates N points with d dimensions \n",
    "    from a normal distribution with mean 0 and covariance 1.\n",
    "\n",
    "    Args:\n",
    "        N (int, optional): Number of points to return. Defaults to 1000.\n",
    "        d (int, optional): Number of dimension for each point. Defaults to 100.\n",
    "\n",
    "    Returns:\n",
    "        np.array: The Nxd matrix of points\n",
    "    \"\"\"\n",
    "    np.random.seed(14)\n",
    "    return np.random.normal(0, 1, (N, d))\n",
    "\n",
    "\n",
    "def get_labels(X, single_index: int, phi=lambda x: x, noise=False):\n",
    "    \"\"\"\n",
    "    Generates the values for a function f(x) = phi(<v, x>) + noise\n",
    "    Where noise ~ N(0, 1)\n",
    "    Where v = [1, 0, 0, ...] where x_i is the index of the singular 1 in an array of 0s\n",
    "\n",
    "    Args:\n",
    "        x_i (int, optional): The index in v that is used. Defaults to 0.\n",
    "\n",
    "    Returns:\n",
    "        np.array: The array of n points\n",
    "    \"\"\"\n",
    "    np.random.seed(14)\n",
    "    y = X[:, single_index]\n",
    "\n",
    "    y = phi(y)\n",
    "\n",
    "    # add some noise\n",
    "    if noise:\n",
    "        y = y + np.random.uniform(0, 1, size=y.shape)\n",
    "\n",
    "    return y"
   ]
  },
  {
   "cell_type": "code",
   "execution_count": 381,
   "metadata": {},
   "outputs": [],
   "source": [
    "X = generate_points(N=100, d=100)"
   ]
  },
  {
   "cell_type": "code",
   "execution_count": 382,
   "metadata": {},
   "outputs": [
    {
     "data": {
      "text/plain": [
       "1.551339111253063"
      ]
     },
     "execution_count": 382,
     "metadata": {},
     "output_type": "execute_result"
    }
   ],
   "source": [
    "X[0, 0]"
   ]
  },
  {
   "cell_type": "code",
   "execution_count": 383,
   "metadata": {},
   "outputs": [
    {
     "data": {
      "text/plain": [
       "1.551339111253063"
      ]
     },
     "execution_count": 383,
     "metadata": {},
     "output_type": "execute_result"
    }
   ],
   "source": [
    "y = get_labels(X, 0)\n",
    "y[0]"
   ]
  },
  {
   "cell_type": "markdown",
   "metadata": {},
   "source": [
    "#### Wide Neural Network"
   ]
  },
  {
   "cell_type": "code",
   "execution_count": 384,
   "metadata": {},
   "outputs": [
    {
     "name": "stdout",
     "output_type": "stream",
     "text": [
      "CUDA is not available.\n"
     ]
    }
   ],
   "source": [
    "if torch.cuda.is_available():\n",
    "    print(\"CUDA is available.\")\n",
    "    print(\"Current device:\", torch.cuda.current_device())\n",
    "    print(\"Device name:\", torch.cuda.get_device_name(0))\n",
    "else:\n",
    "    print(\"CUDA is not available.\")\n",
    "\n",
    "device = torch.device(\"cuda\" if torch.cuda.is_available() else \"cpu\")"
   ]
  },
  {
   "cell_type": "code",
   "execution_count": 385,
   "metadata": {},
   "outputs": [],
   "source": [
    "def train_model(model, X, y, num_epochs=200):\n",
    "    # Define our loss function and an optimizer\n",
    "    criterion = nn.MSELoss()  # Mean Squared Error loss\n",
    "    optimizer = optim.Adam(model.parameters(), lr=0.01)\n",
    "\n",
    "    # Convert data to PyTorch tensors\n",
    "    # move to device (cpu or cuda)\n",
    "    X_tensor = torch.Tensor(X).to(device)\n",
    "    y_tensor = torch.Tensor(y).view(-1, 1).to(device)\n",
    "    model.to(device)\n",
    "\n",
    "    # Training loop\n",
    "    for epoch in range(num_epochs):\n",
    "        # Forward pass\n",
    "        outputs = model(X_tensor)\n",
    "        loss = criterion(outputs, y_tensor)\n",
    "\n",
    "        # Backpropagation and optimization\n",
    "        optimizer.zero_grad()\n",
    "        loss.backward()\n",
    "        optimizer.step()\n",
    "\n",
    "        if (epoch + 1) % 100 == 0:\n",
    "            print(f'Epoch [{epoch + 1}/{num_epochs}], Loss: {loss.item()}')\n",
    "    return loss.item()"
   ]
  },
  {
   "cell_type": "code",
   "execution_count": 386,
   "metadata": {},
   "outputs": [],
   "source": [
    "class Nonlinearity(torch.nn.Module):\n",
    "    def __init__(self, name='relu'):\n",
    "        super(Nonlinearity, self).__init__()\n",
    "        if name == 'relu':\n",
    "            self.layer = nn.ReLU()\n",
    "        elif name == 'sigmoid':\n",
    "            self.layer = nn.Sigmoid()\n",
    "        elif name == 'leaky_relu':\n",
    "            self.layer = nn.LeakyReLU()\n",
    "        elif name == 'sine':\n",
    "            # There is no sine layer in PyTorch, so we apply sin function directly\n",
    "            self.layer = torch.sin\n",
    "        elif name == 'tanh':\n",
    "            self.layer = nn.Tanh()\n",
    "\n",
    "    def forward(self, x):\n",
    "        return self.layer(x)"
   ]
  },
  {
   "cell_type": "code",
   "execution_count": 387,
   "metadata": {},
   "outputs": [],
   "source": [
    "class ShallowNN(nn.Module):\n",
    "    def __init__(self, dim, depth=1, width=1024, out_size=1, act_name='relu'):\n",
    "        super(ShallowNN, self).__init__()\n",
    "        bias=False\n",
    "\n",
    "        self.dim = dim\n",
    "        self.width = width\n",
    "        self.depth = depth\n",
    "        self.name = act_name\n",
    "\n",
    "        # Wee have one hidden Relu with a linear output\n",
    "        if depth == 1:\n",
    "            self.first = nn.Linear(dim, width, bias=bias)\n",
    "            self.fc = nn.Sequential(Nonlinearity(name=self.name),\n",
    "                                    nn.Linear(width, out_size, bias=bias))\n",
    "        else:\n",
    "            middle_layer_template = nn.Sequential(Nonlinearity(name=self.name),\n",
    "                                   nn.Linear(width, width, bias=bias))\n",
    "            num_layers = depth - 1\n",
    "            self.first = nn.Sequential(nn.Linear(dim, width,\n",
    "                                                 bias=bias))\n",
    "            self.middle = nn.ModuleList([deepcopy(middle_layer_template)\n",
    "                                         for _ in range(num_layers)])\n",
    "\n",
    "            self.last = nn.Sequential(Nonlinearity(name=self.name),\n",
    "                                      nn.Linear(width, out_size,\n",
    "                                                bias=bias))\n",
    "\n",
    "\n",
    "    def forward(self, x):\n",
    "        # Define the forward pass\n",
    "        if self.depth == 1:\n",
    "            return self.fc(self.first(x))\n",
    "        else:\n",
    "            o = self.first(x)\n",
    "            for _, layer in enumerate(self.middle):\n",
    "                o = layer(o)\n",
    "            o = self.last(o)\n",
    "            return o"
   ]
  },
  {
   "cell_type": "code",
   "execution_count": 388,
   "metadata": {},
   "outputs": [
    {
     "name": "stdout",
     "output_type": "stream",
     "text": [
      "Epoch [100/1000], Loss: 4.275287210475653e-06\n",
      "Epoch [200/1000], Loss: 1.3118933717137793e-10\n",
      "Epoch [300/1000], Loss: 2.0481810624156487e-14\n",
      "Epoch [400/1000], Loss: 5.642708501481534e-16\n",
      "Epoch [500/1000], Loss: 1.1914080621250474e-15\n",
      "Epoch [600/1000], Loss: 1.2563561133007838e-15\n",
      "Epoch [700/1000], Loss: 1.0859368959614812e-15\n",
      "Epoch [800/1000], Loss: 1.794259092498707e-15\n",
      "Epoch [900/1000], Loss: 2.337574612229585e-15\n",
      "Epoch [1000/1000], Loss: 3.3685553752984968e-15\n"
     ]
    },
    {
     "data": {
      "text/plain": [
       "3.3685553752984968e-15"
      ]
     },
     "execution_count": 388,
     "metadata": {},
     "output_type": "execute_result"
    }
   ],
   "source": [
    "dim = X.shape[1]\n",
    "depth = 1\n",
    "width = 1024\n",
    "output_size = 1\n",
    "wideNN = ShallowNN(dim=dim, depth=depth, width=width, \n",
    "                   out_size=output_size, act_name='relu')\n",
    "train_model(wideNN, X, y, 1000)"
   ]
  },
  {
   "cell_type": "code",
   "execution_count": 390,
   "metadata": {},
   "outputs": [
    {
     "data": {
      "text/plain": [
       "tensor([[ 0.0196,  0.0279,  0.0872,  ...,  0.0320, -0.0769, -0.0077],\n",
       "        [-0.1669, -0.0052,  0.0265,  ..., -0.1403,  0.0835,  0.1638],\n",
       "        [-0.0749, -0.0021,  0.0879,  ..., -0.0313,  0.0241,  0.0743],\n",
       "        ...,\n",
       "        [-0.0151,  0.0066,  0.0278,  ..., -0.0035,  0.0147, -0.0758],\n",
       "        [-0.0236, -0.1048,  0.0631,  ...,  0.0716,  0.0741,  0.0316],\n",
       "        [ 0.0951, -0.0374,  0.1144,  ..., -0.0105, -0.1124,  0.0155]])"
      ]
     },
     "execution_count": 390,
     "metadata": {},
     "output_type": "execute_result"
    }
   ],
   "source": [
    "# Get the weights from the first layer\n",
    "W_1 = wideNN.first.weight.data\n",
    "W_1"
   ]
  },
  {
   "cell_type": "code",
   "execution_count": 391,
   "metadata": {},
   "outputs": [],
   "source": [
    "import numpy as np\n",
    "import matplotlib.pyplot as plt\n",
    "\n",
    "\n",
    "def plot_NFM_GOP(Mat):\n",
    "    diagonal_weights = np.diag(Mat).reshape(10, 10)\n",
    "\n",
    "    # Display the weights as a 10x10 greyscale image\n",
    "    plt.imshow(diagonal_weights, cmap='gray')\n",
    "    plt.colorbar()\n",
    "    plt.title(\"Diagonal Weights of the First Layer\")\n",
    "    plt.show()"
   ]
  },
  {
   "cell_type": "code",
   "execution_count": 392,
   "metadata": {},
   "outputs": [
    {
     "data": {
      "image/png": "[encoded data removed]",
      "text/plain": [
       "<Figure size 640x480 with 2 Axes>"
      ]
     },
     "metadata": {},
     "output_type": "display_data"
    }
   ],
   "source": [
    "plot_NFM_GOP(W_1)"
   ]
  },
  {
   "cell_type": "code",
   "execution_count": 411,
   "metadata": {},
   "outputs": [
    {
     "name": "stdout",
     "output_type": "stream",
     "text": [
      "Epoch [100/200], Loss: 0.042953722178936005\n",
      "Epoch [200/200], Loss: 0.001716486643999815\n"
     ]
    }
   ],
   "source": [
    "import numpy as np\n",
    "import torch\n",
    "import torch.nn as nn\n",
    "import torch.optim as optim\n",
    "from torch.utils.data import DataLoader, TensorDataset\n",
    "from sklearn.model_selection import train_test_split\n",
    "import matplotlib.pyplot as plt\n",
    "\n",
    "# Data generation\n",
    "\n",
    "\n",
    "def generate_points(N=1000, d=100):\n",
    "    np.random.seed(14)\n",
    "    return np.random.normal(0, 1, (N, d))\n",
    "\n",
    "\n",
    "def get_labels(X):\n",
    "    # Labels based on the sum of the first two features\n",
    "    return X[:, 0]\n",
    "\n",
    "# Neural Network Model\n",
    "\n",
    "\n",
    "class SimpleNN(nn.Module):\n",
    "    def __init__(self, input_dim, hidden_dim=1024, depth=1):\n",
    "        super(SimpleNN, self).__init__()\n",
    "        layers = []\n",
    "\n",
    "        # First layer\n",
    "        layers.append(nn.Linear(input_dim, hidden_dim, bias=False))\n",
    "        layers.append(nn.ReLU())\n",
    "\n",
    "        # Additional hidden layers\n",
    "        for _ in range(depth - 1):\n",
    "            layers.append(nn.Linear(hidden_dim, hidden_dim, bias=False))\n",
    "            layers.append(nn.ReLU())\n",
    "\n",
    "        # Output layer\n",
    "        layers.append(nn.Linear(hidden_dim, 1, bias=False))\n",
    "\n",
    "        # Combine all layers into a Sequential module\n",
    "        self.layers = nn.Sequential(*layers)\n",
    "\n",
    "    def forward(self, x):\n",
    "        return self.layers(x)\n",
    "\n",
    "# Training Function\n",
    "\n",
    "\n",
    "def train_model(model, train_loader, num_epochs=200, lr=0.01):\n",
    "    criterion = nn.MSELoss()\n",
    "    optimizer = optim.Adam(model.parameters(), lr=lr)\n",
    "\n",
    "    for epoch in range(num_epochs):\n",
    "        for X_batch, y_batch in train_loader:\n",
    "            optimizer.zero_grad()\n",
    "            outputs = model(X_batch)\n",
    "            loss = criterion(outputs, y_batch)\n",
    "            loss.backward()\n",
    "            optimizer.step()\n",
    "        if (epoch + 1) % 100 == 0:\n",
    "            print(f'Epoch [{epoch + 1}/{num_epochs}], Loss: {loss.item()}')\n",
    "\n",
    "\n",
    "# Data Preparation\n",
    "X = generate_points(N=1000, d=100)\n",
    "y = get_labels(X)\n",
    "\n",
    "X_tensor = torch.Tensor(X)\n",
    "y_tensor = torch.Tensor(y).unsqueeze(1)\n",
    "\n",
    "X_train, X_test, y_train, y_test = train_test_split(\n",
    "    X_tensor, y_tensor, test_size=0.2)\n",
    "train_loader = DataLoader(TensorDataset(\n",
    "    X_train, y_train), batch_size=, shuffle=True)\n",
    "\n",
    "# Model Initialization\n",
    "model = SimpleNN(input_dim=100)\n",
    "\n",
    "# Training\n",
    "train_model(model, train_loader, num_epochs=200)"
   ]
  },
  {
   "cell_type": "code",
   "execution_count": 412,
   "metadata": {},
   "outputs": [
    {
     "data": {
      "image/png": "[encoded data removed]",
      "text/plain": [
       "<Figure size 640x480 with 2 Axes>"
      ]
     },
     "metadata": {},
     "output_type": "display_data"
    }
   ],
   "source": [
    "\n",
    "\n",
    "# Assuming the model 'model' has been trained, and the weights are from the first layer\n",
    "W_1 = model.layers[0].weight.data\n",
    "\n",
    "# Extract the diagonal weights and reshape them into a 10x10 matrix\n",
    "# Since the model has 1024 units in the hidden layer, we only take the first 100 weights\n",
    "diagonal_weights = W_1[:, :100].diag().reshape(10, 10).cpu().numpy()\n",
    "\n",
    "# Display the weights as a 10x10 greyscale image\n",
    "plt.imshow(diagonal_weights, cmap='gray')\n",
    "plt.colorbar()\n",
    "plt.title(\"Diagonal Weights of the First Layer\")\n",
    "plt.show()"
   ]
  },
  {
   "cell_type": "code",
   "execution_count": 375,
   "metadata": {},
   "outputs": [
    {
     "name": "stdout",
     "output_type": "stream",
     "text": [
      "Epoch [100/1000], Loss: 8.390565926674753e-05\n",
      "Epoch [200/1000], Loss: 3.4304119544970035e-09\n",
      "Epoch [300/1000], Loss: 0.0013506116811186075\n",
      "Epoch [400/1000], Loss: 8.244561655601501e-08\n",
      "Epoch [500/1000], Loss: 8.523928633243083e-13\n",
      "Epoch [600/1000], Loss: 0.05239924415946007\n",
      "Epoch [700/1000], Loss: 2.8380638283920234e-08\n",
      "Epoch [800/1000], Loss: 1.7060798954138257e-11\n",
      "Epoch [900/1000], Loss: 4.772825675804747e-14\n",
      "Epoch [1000/1000], Loss: 4.3020386650835865e-14\n"
     ]
    }
   ],
   "source": [
    "def train_model(model, X, y, num_epochs=200, lr=0.01):\n",
    "    criterion = nn.MSELoss()\n",
    "    optimizer = optim.Adam(model.parameters(), lr=lr)\n",
    "\n",
    "    # Convert data to PyTorch tensors\n",
    "    X_tensor = torch.Tensor(X)\n",
    "    y_tensor = torch.Tensor(y).unsqueeze(1)\n",
    "\n",
    "    for epoch in range(num_epochs):\n",
    "        # Forward pass\n",
    "        outputs = model(X_tensor)\n",
    "        loss = criterion(outputs, y_tensor)\n",
    "\n",
    "        # Backward and optimize\n",
    "        optimizer.zero_grad()\n",
    "        loss.backward()\n",
    "        optimizer.step()\n",
    "\n",
    "        if (epoch + 1) % 100 == 0:\n",
    "            print(f'Epoch [{epoch + 1}/{num_epochs}], Loss: {loss.item()}')\n",
    "\n",
    "\n",
    "# Model\n",
    "model_2 = SimpleNN(input_dim=100, hidden_dim=1024, depth=2)\n",
    "\n",
    "# Example dataset\n",
    "X_2 = generate_points(N=1000, d=100)\n",
    "y_2 = get_labels(X)\n",
    "\n",
    "# Training\n",
    "train_model(model_2, X_2, y_2, num_epochs=1000, lr=0.01)"
   ]
  },
  {
   "cell_type": "code",
   "execution_count": 376,
   "metadata": {},
   "outputs": [
    {
     "data": {
      "image/png": "[encoded data removed]",
      "text/plain": [
       "<Figure size 640x480 with 2 Axes>"
      ]
     },
     "metadata": {},
     "output_type": "display_data"
    }
   ],
   "source": [
    "# Assuming the model 'model' has been trained, and the weights are from the first layer\n",
    "W_1_2 = model_2.layers[0].weight.data\n",
    "\n",
    "# Extract the diagonal weights and reshape them into a 10x10 matrix\n",
    "# Since the model has 1024 units in the hidden layer, we only take the first 100 weights\n",
    "diagonal_weights = W_1[:, :100].diag().reshape(10, 10).cpu().numpy()\n",
    "\n",
    "# Display the weights as a 10x10 greyscale image\n",
    "plt.imshow(diagonal_weights, cmap='gray')\n",
    "plt.colorbar()\n",
    "plt.title(\"Diagonal Weights of the First Layer\")\n",
    "plt.show()"
   ]
  },
  {
   "cell_type": "code",
   "execution_count": null,
   "metadata": {},
   "outputs": [],
   "source": [
    "import torch\n",
    "from torch.utils.data import DataLoader, TensorDataset\n",
    "from sklearn.model_selection import train_test_split\n",
    "\n",
    "\n",
    "def get_single_index_dataset(N=1000, d=100, split_percentage=0.8):\n",
    "    \"\"\"\n",
    "    Generates and splits the single-index model dataset into train, validation, and test sets.\n",
    "    \"\"\"\n",
    "    # Generate data\n",
    "    X = generate_points(N, d)\n",
    "    y = get_labels(X, phi, x_i=0)  # Assuming the relevant feature index is 0\n",
    "\n",
    "    # Convert to PyTorch tensors\n",
    "    X_tensor = torch.Tensor(X)\n",
    "\n",
    "    # Add an extra dimension for labels\n",
    "    y_tensor = torch.Tensor(y).unsqueeze(1)\n",
    "\n",
    "    # Split dataset into train and test\n",
    "    X_train, X_test, y_train, y_test = train_test_split(\n",
    "        X_tensor, y_tensor, test_size=1 - split_percentage)\n",
    "\n",
    "    X_train, X_val, y_train, y_val = train_test_split(\n",
    "        X_train, y_train, train_size=split_percentage)\n",
    "\n",
    "    # Determine batch size as the size of the dataset\n",
    "    batch_size_train = len(X_train)\n",
    "    batch_size_test = len(X_test)\n",
    "    batch_size_val = len(X_val)\n",
    "\n",
    "    # Create PyTorch datasets\n",
    "    train_dataset = TensorDataset(X_train, y_train)\n",
    "    val_dataset = TensorDataset(X_val, y_val)\n",
    "    test_dataset = TensorDataset(X_test, y_test)\n",
    "\n",
    "    # DataLoaders\n",
    "    train_loader = DataLoader(\n",
    "        train_dataset, batch_size=batch_size_train, shuffle=True)\n",
    "    val_loader = torch.utils.data.DataLoader(val_dataset, batch_size=batch_size_val,\n",
    "                                             shuffle=False, num_workers=1)\n",
    "    test_loader = DataLoader(\n",
    "        test_dataset, batch_size=batch_size_test, shuffle=False)\n",
    "\n",
    "    # Print dataset sizes\n",
    "    print(\"Num Train: \", len(train_dataset), \"Num Val: \",\n",
    "          len(val_dataset), \"Num Test: \", len(test_dataset))\n",
    "\n",
    "    return train_loader, val_loader, test_loader\n",
    "\n",
    "\n",
    "# Example usage\n",
    "train_loader, val_loader, test_loader = get_single_index_dataset(N=1000, d=100)"
   ]
  }
 ],
 "metadata": {
  "kernelspec": {
   "display_name": "env",
   "language": "python",
   "name": "python3"
  },
  "language_info": {
   "codemirror_mode": {
    "name": "ipython",
    "version": 3
   },
   "file_extension": ".py",
   "mimetype": "text/x-python",
   "name": "python",
   "nbconvert_exporter": "python",
   "pygments_lexer": "ipython3",
   "version": "3.11.1"
  }
 },
 "nbformat": 4,
 "nbformat_minor": 2
}
